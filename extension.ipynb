{
 "cells": [
  {
   "cell_type": "markdown",
   "metadata": {},
   "source": [
    "## Project Milestone 4 - Linguistic Harbingers of Betrayal Extension"
   ]
  },
  {
   "cell_type": "markdown",
   "metadata": {},
   "source": [
    "First, input all the libraries we need to get the plot:"
   ]
  },
  {
   "cell_type": "code",
   "execution_count": 1,
   "metadata": {},
   "outputs": [],
   "source": [
    "import json\n",
    "\n",
    "from scipy.stats import sem\n",
    "import numpy as np\n",
    "import matplotlib.pyplot as plt"
   ]
  },
  {
   "cell_type": "markdown",
   "metadata": {},
   "source": [
    "Since the data file contains only the selected games, there is no need to consider the selection criteria when retreving the message data. \n",
    "*The condition \"relationships that contain at least two consecutive and reciprocated acts of support that span at least three seasons in game time, with no more than five seasons passing between two acts of friendship\" is fullfilled.\n",
    "\n",
    "Here, we read the data from json file and get the number of games, which is 500, including 250 selected games ended up betrayal and 250 selected games ended up lasting friendship between two players.\n"
   ]
  },
  {
   "cell_type": "code",
   "execution_count": 2,
   "metadata": {},
   "outputs": [
    {
     "data": {
      "text/plain": [
       "500"
      ]
     },
     "execution_count": 2,
     "metadata": {},
     "output_type": "execute_result"
    }
   ],
   "source": [
    "# read data from diplomacy_data.json with reading mode\n",
    "with open(\"diplomacy_data.json\", \"r\") as f:\n",
    "        data = json.load(f)\n",
    "len(data)"
   ]
  },
  {
   "cell_type": "markdown",
   "metadata": {},
   "source": [
    "Since we only consider dialogs that happen before the last act of friendship, we need to know when does the last act of friendship happen. Later when extracting feature values, extract them from the seasons that is before the last support season."
   ]
  },
  {
   "cell_type": "code",
   "execution_count": 3,
   "metadata": {},
   "outputs": [],
   "source": [
    "# a function to get the season where the last support between two players happened\n",
    "# entry refer to one entry in the dataset, one game\n",
    "def last_support(entry):\n",
    "    seasons = entry['seasons']\n",
    "    last_support = None\n",
    "    for season in seasons[:-1]:\n",
    "        if 'support' in season['interaction'].values():\n",
    "            last_support = season['season']\n",
    "    return last_support"
   ]
  },
  {
   "cell_type": "markdown",
   "metadata": {},
   "source": [
    "Given the messages sent by a player from a season in a game, we need to calculate the different variable values of the messages.\n",
    "\n",
    "Variables we consider:\n",
    "\n",
    "1. sent_pos: Positive sentiment\n",
    "2. sent_neu: Neutral sentiment\n",
    "3. sent_neg: Negative sentiment\n",
    "4. discourse_comp: Discourse complexity (calculated through comparison, contingency, expansive and temporal)\n",
    "5. plan: Planning level (calculated through future)\n",
    "6. argu_level: Argumentation level (calculated through claim and premise)\n",
    "7. n_request: Number of requests\n",
    "8. politeness: Politeness\n",
    "9. subj: Subjectivity\n",
    "10. n_words: Number of words\n",
    "11. n_sentences: Number of sentences\n"
   ]
  },
  {
   "cell_type": "code",
   "execution_count": 4,
   "metadata": {},
   "outputs": [],
   "source": [
    "# a function to get the average value across the seasons for all features of the messages\n",
    "# msgs: messages sent by a player from a season in a game\n",
    "def extract_features(msgs):    \n",
    "    # count total number of messages in the conversation\n",
    "    sum_politeness = 0\n",
    "    for m in msgs:\n",
    "        sum_politeness += m['politeness']\n",
    "    \n",
    "    avg_politeness = sum_politeness/len(msgs)\n",
    "\n",
    "    return avg_politeness"
   ]
  },
  {
   "cell_type": "markdown",
   "metadata": {},
   "source": [
    "From paper: To ensure that we are studying conversational patterns that occur only when the two individuals in the dyad are ostensibly being friends, we only extract features from the messages exchanged before the last act of friendship.\n",
    "Therefore, the messages we extract should from seasons less than last support season."
   ]
  },
  {
   "cell_type": "code",
   "execution_count": 5,
   "metadata": {},
   "outputs": [],
   "source": [
    "# a function to get average politeness scores from dataset entries \n",
    "# data: the dataset where we extract politeness score from\n",
    "# betrayal: if the games we consider end up betrayal\n",
    "# betrayer: if the person to be analyzed is the (potential) betrayer\n",
    "def politeness_for_plot(data, betrayal, betrayer):\n",
    "    average_politeness = []\n",
    "    \n",
    "    # loop in every game in data\n",
    "    for entry in data:\n",
    "        for season in entry['seasons']:\n",
    "            # consider every season in the game, extract features from the messages exchanged before the last act of friendship\n",
    "            if(season['season'] <= last_support(entry)):\n",
    "                if(len(season['messages']['betrayer']) > 0 and len(season['messages']['victim']) > 0):\n",
    "                    if(entry['betrayal'] == betrayal):\n",
    "                        if(betrayer):\n",
    "                            average_politeness.append(msgs_politeness(season['messages']['betrayer']))\n",
    "                        else:\n",
    "                            average_politeness.append(msgs_politeness(season['messages']['victim']))\n",
    "    # return value is a list of mean politeness score of the indicated player in the indicated type of games\n",
    "    return average_politeness"
   ]
  },
  {
   "cell_type": "markdown",
   "metadata": {},
   "source": [
    "Get the politeness score of the four conditions below:"
   ]
  },
  {
   "cell_type": "code",
   "execution_count": 6,
   "metadata": {},
   "outputs": [],
   "source": [
    "# for the games end up betrayal, get politeness score for each betrayer\n",
    "betray_er = politeness_for_plot(data, True, True)\n",
    "\n",
    "# for the games end up betrayal, get politeness score for each victim\n",
    "betray_vi = politeness_for_plot(data, True, False) \n",
    "\n",
    "# for the games not end up betrayal, get politeness score for each potential betrayer\n",
    "control_er = politeness_for_plot(data, False, True) \n",
    "\n",
    "# for the games not end up betrayal, get politeness score for each potential victim\n",
    "control_vi = politeness_for_plot(data, False, False) "
   ]
  },
  {
   "cell_type": "code",
   "execution_count": null,
   "metadata": {},
   "outputs": [],
   "source": []
  }
 ],
 "metadata": {
  "kernelspec": {
   "display_name": "Python 3",
   "language": "python",
   "name": "python3"
  },
  "language_info": {
   "codemirror_mode": {
    "name": "ipython",
    "version": 3
   },
   "file_extension": ".py",
   "mimetype": "text/x-python",
   "name": "python",
   "nbconvert_exporter": "python",
   "pygments_lexer": "ipython3",
   "version": "3.8.5"
  }
 },
 "nbformat": 4,
 "nbformat_minor": 4
}
